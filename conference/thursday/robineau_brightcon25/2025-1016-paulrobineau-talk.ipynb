{
 "cells": [
  {
   "cell_type": "markdown",
   "id": "68c9a7fc-9803-4aac-92ca-9f181b7fe747",
   "metadata": {},
   "source": [
    "<div style=\"border: 2px solid #575757; padding: 10px; border-radius: 5px; background-color: #e1e1e1; color: black; text-align: center;\">\n",
    "  <h1 style=\"margin: 0;\">\n",
    "TEA-LCA of hydrogen-based ICE-CHP in decentralized energy systems </h1>\n",
    "</div>"
   ]
  },
  {
   "cell_type": "markdown",
   "id": "1c641e51-a343-4fad-896c-61e79bdef920",
   "metadata": {},
   "source": [
    "<div style=\"border: 2px solid #d3d3d3; padding: 10px; border-radius: 5px; background-color: ##f4f0ec; color: black; text-align: center;\">\n",
    "  <h2 style=\"margin: 0;\">\n",
    "A feedback on OpenModelica-ActivityBrowser interfacing</h2>\n",
    "    <h2 style=\"margin: 0;\">\n",
    "from code-curious users</h2>\n",
    "</div>"
   ]
  },
  {
   "cell_type": "markdown",
   "id": "46d10c17-3231-4a66-97d5-67f3335bd4ac",
   "metadata": {},
   "source": [
    "<div style=\"padding: 10px; color: black; text-align: center;\">\n",
    "  <h3 style=\"margin: 0;\">Brightcon 2025</h3>\n",
    "</div>"
   ]
  },
  {
   "cell_type": "markdown",
   "id": "cc47fd24-b488-4be0-ab82-515d169c5155",
   "metadata": {
    "jp-MarkdownHeadingCollapsed": true
   },
   "source": [
    "**Paul Robineau** / [ORCID](https://orcid.org/0000-0002-2198-3689), [GitHub](https://github.com/Paul-Robineau), [email](mailto:paul.robineau@univ-lille.fr)\n",
    "\n",
    "Postdoc:\n",
    "- Currently: Prospective LCA of DNA computing at [LASIRE](https://lasir.cnrs.fr/en/lasir/), UMR 8516, CNRS / Université de Lille, Cité Scientifique, Villeneuve d'Ascq, France\n",
    "- Previously: LCA of NPP decommissioning and $H_{2}$-CHP-DES at [IPHC](https://iphc.cnrs.fr/en/home/), UMR 7178, CNRS / Université de Strasbourg, Strasbourg, France \n",
    "\n",
    "Thanks to colleagues:\n",
    "\n",
    "IPHC, UMR 7178, CNRS / Université de Strasbourg, Strasbourg, France\n",
    "- Maria Boltoeva / [ORCID](https://orcid.org/0000-0002-0330-8153), [email](mailto:maria.boltoeva@iphc.cnrs.fr)\n",
    "- Nicolas Arbor / [ORCID](https://orcid.org/0000-0001-6457-1767), [email](mailto:nicolas.arbor@iphc.cnrs.fr)\n",
    "- Gaetana Quaranta / [ORCID](https://orcid.org/0000-0003-4867-0030), [email](mailto:gaetana.quaranta@iphc.cnrs.fr)\n",
    "\n",
    "IKKU, Karlsruhe University of Applied Sciences, Germany\n",
    "- Naqib Salim / [email](mailto:muhamad_naqib.md_salim@h-ka.de)\n",
    "- Maurice Kettner / [ORCID](https://orcid.org/0000-0001-6718-6119), [email](mailto:maurice.kettner@h-ka.de)"
   ]
  },
  {
   "cell_type": "markdown",
   "id": "37678180-8dea-4eca-b575-ccc8aa3f7b64",
   "metadata": {},
   "source": [
    "<div style=\"padding: 10px; border-radius: 0px; background-color: #FFFACD; color: black; text-align: center;\">\n",
    "  <h3 style=\"margin: 0;\"><a href=\"https://partici.fi/16064133\">$\\rightarrow$ Small questions :)</a></h3>\n",
    "</div>"
   ]
  },
  {
   "cell_type": "markdown",
   "id": "bc70d407-beab-4344-8348-9ef9d70ceab5",
   "metadata": {},
   "source": [
    "<p style=\"text-align:center;\"><img src=\"data/Brightcon25-SmallQuestions.png\" width=\"500\"></p>"
   ]
  },
  {
   "cell_type": "markdown",
   "id": "c3b5f4bb-29dd-4827-ad9a-e1e9c7f81d4b",
   "metadata": {},
   "source": [
    "<div style=\"border: 2px solid #575757; padding: 10px; border-radius: 5px; background-color: #e1e1e1; color: black; text-align: center;\">\n",
    "  <h2 style=\"margin: 0;\">Structure of the presentation</h2>\n",
    "</div>"
   ]
  },
  {
   "cell_type": "markdown",
   "id": "7306a185-88fc-4db2-8d16-a0375f9b977f",
   "metadata": {},
   "source": [
    "- ### **Context**\n",
    "- ### **The study**\n",
    "- ### **Open Modelica $\\rightarrow$ Activity-Browser**\n",
    "  - #### What we managed to do (some things)\n",
    "  - #### What we didn't (and why)\n",
    "- ### **Perspectives**"
   ]
  },
  {
   "cell_type": "markdown",
   "id": "1070c8b9-00ab-41d4-919d-d062d5352ecc",
   "metadata": {},
   "source": [
    "<div style=\"border: 2px solid #7d7d7d; padding: 10px; border-radius: 5px; background-color: #eeeeee; color: black; text-align: center;\">\n",
    "  <h2 style=\"margin: 0;\">Context</h2>\n",
    "</div>"
   ]
  },
  {
   "cell_type": "markdown",
   "id": "d2f178db-73bf-4282-92fe-b4535e648c38",
   "metadata": {},
   "source": [
    "<div style=\"border: 2px solid #FFE4B3; padding: 10px; border-radius: 5px; background-color: #FFFEF0; color: black; text-align: center;\">\n",
    "  <h2 style=\"margin: 0;\">Global</h2>\n",
    "</div>"
   ]
  },
  {
   "cell_type": "markdown",
   "id": "6b618071-5c2d-45eb-afe8-f6f318a798cd",
   "metadata": {},
   "source": [
    "**This work has been done as part of the [CO2InnO](https://co2inno.com/) project, which was financed by the European Union through [Interreg Upper Rhine 2021–2027, A1.3](https://www.interreg-rhin-sup.eu/projet/co2inno-laboratoire-vivant-pour-une-region-dinnovation-pilote-neutre-en-co2-developpement-de-solutions-energetiques-et-de-mobilite/).**\n",
    "\n",
    "CO2InnO investigated the following elements:\n",
    "- **Hydrogen-based combined heat and power units ($H_{2}$-CHP) in decentralized energy systems (DES)**\n",
    "    > - This talk!\n",
    "    > - An article in review process\n",
    "- Sustainable mobility and charging infrastructure\n",
    "- Cyber security in energy systems\n",
    "- Technical, administrative and legal frameworks\n",
    "- Societal acceptance\n",
    "- **Impact of nuclear power plant (NPP) decommissioning**\n",
    "     > - Pilot LCA on Fessenheim NPP decommissioning ([Iguider et al., 2024](https://doi.org/10.1007/s11367-024-02315-9))\n",
    "     > - Comparison of Prospective LCA and HERA approaches for Radiological impact ([Robineau et al., 2025](https://doi.org/10.1016/j.scitotenv.2025.179200))"
   ]
  },
  {
   "cell_type": "markdown",
   "id": "c07e5631-ff39-4cb7-bfb3-e41baf824a2e",
   "metadata": {},
   "source": [
    "<div style=\"border: 2px solid #FFE4B3; padding: 10px; border-radius: 5px; background-color: #FFFEF0; color: black; text-align: center;\">\n",
    "  <h2 style=\"margin: 0;\">On hydrogen</h2>\n",
    "</div>"
   ]
  },
  {
   "cell_type": "markdown",
   "id": "e2c67e37-c927-45af-9cc5-fb77d18e56d5",
   "metadata": {},
   "source": [
    "**Strategic divergences in EU related to hydrogen ($H_{2}$) use for the transition** ([Quitzow & Zabanova, 2024](https://doi.org/10.1007/978-3-031-59515-8))\n",
    "- France: *Industry and agriculture*\n",
    "- Germany: *More diverse uses (energy storage, mobility, etc.)*\n",
    "\n",
    "**Numerous environmental impact studies on $H_{2}$ based decentralized energy systems (DES)**: \n",
    "\n",
    "Environmental potential benefits highly dependant on:\n",
    "- $H_{2}$ production mode:\n",
    "    - *Steam methane reforming vs. Electrolysis*\n",
    "- Electricity mix"
   ]
  },
  {
   "cell_type": "markdown",
   "id": "bd65b705-1fe2-43f4-b0ae-f297bbd37f2c",
   "metadata": {},
   "source": [
    "**General focus on fuel cells (FCs) at the expense of internal combustion engines (ICE)**:\n",
    "- Bias towards efficiency and novelty?\n",
    "- ICE under-explored despite advantages ([Stępień et al., 2021](https://doi.org/10.3390/en14206504)):\n",
    "    - *Contamination tolerance*\n",
    "    - *Technology maturity*\n",
    "    - *Scarce material dependency*\n",
    "\n",
    "**Sensible assessments are situated assessments:**\n",
    "- Technology normalized comparisons only give a part of the picture:\n",
    "    - *Systems interaction with the grid and other uses*\n",
    "- Implies integrated or combined use of techno-economic analysis (TEA) and LCA:\n",
    "    - *Advanced proposals based on proprietary software*\n",
    "    - (Le et al., [2024a](https://doi.org/10.1016/j.energy.2023.130041) & [2024b](https://doi.org/10.1016/j.energy.2024.132644); [Sharma et al., 2023](https://doi.org/10.1016/j.procir.2020.02.139))\n"
   ]
  },
  {
   "cell_type": "markdown",
   "id": "d88eb664-c12f-4463-a28c-6ac3acf458f3",
   "metadata": {},
   "source": [
    "<div style=\"border: 2px solid #7d7d7d; padding: 10px; border-radius: 5px; background-color: #eeeeee; color: black; text-align: center;\">\n",
    "  <h2 style=\"margin: 0;\">The study</h2>\n",
    "</div>"
   ]
  },
  {
   "cell_type": "markdown",
   "id": "6e36cbe1-6269-4f0c-8c1d-506338f188b8",
   "metadata": {},
   "source": [
    "<div style=\"border: 2px solid rgba(0, 158, 115, 0.5); padding: 10px; border-radius: 5px; background-color: rgba(0, 158, 115, 0.1); color: black; text-align: center;\">\n",
    "  <h2 style=\"margin: 0;\">Goal & Scope</h2>\n",
    "</div>"
   ]
  },
  {
   "cell_type": "markdown",
   "id": "24b2837b-aebb-4de1-82ba-e72b7ba15899",
   "metadata": {},
   "source": [
    "**Functional unit:** \n",
    "- 1 year meeting electricity and heat demand of selected Offenburg buildings\n",
    "- Heat-lead $H_{2}$-ICE-CHP system\n",
    "\n",
    "**3 relevant boundaries:**\n",
    "- Load: *Buildings demand only*\n",
    "- Load + Excess: *Electricity overproduction accounted*\n",
    "- Load + Excess - Grid(DE): *Prevented impacts accounted*\n",
    "\n",
    "**LCIA method: EF 3.1:**\n",
    "- All indicators computed (Monte Carlo, GSA)\n",
    "- Focus on:\n",
    "    - Global Warming Potential (climate change)\n",
    "    - Ecotoxicity (freshwater)\n",
    "    - Human Toxicity (carcinogenic)\n",
    "    - Abiotic Depletion Potential (ultimate reserves)\n",
    "    - User Deprivation Potential (water use)"
   ]
  },
  {
   "cell_type": "markdown",
   "id": "b0df3217-d936-4c40-a6a5-0440dd9ab247",
   "metadata": {},
   "source": [
    "<p style=\"text-align:center;\"><img src=\"data/GraphicalAbstract.png\" width=\"1000\"></p>"
   ]
  },
  {
   "cell_type": "markdown",
   "id": "dbce399c-3156-47c9-bfc7-8f24da74ed15",
   "metadata": {},
   "source": [
    "<div style=\"padding: 10px; border-radius: 0px; background-color: #FFFACD; color: black; text-align: center;\">\n",
    "  <h3 style=\"margin: 0;\"><a href=\"https://github.com/Paul-Robineau/Processing-CO2InnO-H2-CHP-Demonstrator-outputs\">$\\rightarrow$ Let's look at the system</a></h3>\n",
    "</div>"
   ]
  },
  {
   "cell_type": "markdown",
   "id": "b08066a3-c8e4-4215-9ea0-109cd69fe76c",
   "metadata": {},
   "source": [
    "<div style=\"border: 2px solid rgba(0, 158, 115, 0.5); padding: 10px; border-radius: 5px; background-color: rgba(0, 158, 115, 0.1); color: black; text-align: center;\">\n",
    "  <h2 style=\"margin: 0;\">Results</h2>\n",
    "</div>"
   ]
  },
  {
   "cell_type": "markdown",
   "id": "e745ae7d-6656-451e-8506-7c89f89f4d09",
   "metadata": {},
   "source": [
    "**Requirements:**\n",
    "\n",
    "```\n",
    "conda create -n myenv_name python=3.11 jupyterlab pandas numpy scipy seaborn matplotlib plotly dash joblib tqdm ipywidgets ipython\n",
    "```\n",
    "\n",
    "(This environment can manage all the notebooks from the 2 repositories)"
   ]
  },
  {
   "cell_type": "markdown",
   "id": "cd6571e6-6a1c-4396-920e-f3baf7b37a3e",
   "metadata": {},
   "source": [
    "<div style=\"padding: 10px; border-radius: 0px; background-color: #FFFACD; color: black; text-align: center;\">\n",
    "  <h3 style=\"margin: 0;\"><a href=\"https://github.com/Paul-Robineau/LCA-ScenarioResults-from-CO2InnO-H2-ICE-CHP-Demonstrator\">$\\rightarrow$ Let's look at the LCA results</a></h3>\n",
    "</div>"
   ]
  },
  {
   "cell_type": "markdown",
   "id": "4559a71c-8ec4-4e38-8212-30f06821a2ca",
   "metadata": {},
   "source": [
    "<div style=\"border: 2px solid #7d7d7d; padding: 10px; border-radius: 5px; background-color: #eeeeee; color: black; text-align: center;\">\n",
    "  <h2 style=\"margin: 0;\">OpenModelica (TEA) $\\rightarrow$ A🐝 (LCA)</h2>\n",
    "</div>"
   ]
  },
  {
   "cell_type": "markdown",
   "id": "e9ae459a-048d-4bda-8c7d-806d848c5b91",
   "metadata": {},
   "source": [
    "## **Interlude: energy research & software**"
   ]
  },
  {
   "cell_type": "markdown",
   "id": "38e40d67-016c-4195-927e-94bc238a896e",
   "metadata": {},
   "source": [
    "#### **Recent synthesis of interdiscplinary workshops ([Ferenz et al., 2025](https://doi.org/10.1145/3679240.3734606))**\n",
    "\n",
    "**Problematics identified**\n",
    "- Interdisciplinary research $\\rightarrow$ Difficulties in collaboration\n",
    "- Applied research $\\rightarrow$ Joint projects with industry usually impede open science\n",
    "- Changing levels of detail & Complexity $\\rightarrow$ Necessary compromises \n",
    "- Coupled co-simulations & Data heterogeneity $\\rightarrow$ A mess upstream & downstream of any study\n",
    "\n",
    "**Recurring discussions**\n",
    "- Architecture and software design\n",
    "- Development process\n",
    "- Testing\n",
    "- Publication of software\n",
    "\n",
    "**One of the most typical profile of people in energy research**\n",
    "- Scientists from diverse disciplinary backgrounds\n",
    "- Without formal training in software engineering"
   ]
  },
  {
   "cell_type": "markdown",
   "id": "683ee08f-5951-44db-965a-6a10505c74c5",
   "metadata": {},
   "source": [
    "#### **Collaboratively synthetized recommendations:**"
   ]
  },
  {
   "cell_type": "markdown",
   "id": "a4aaff14-7eaa-49f3-83dd-774ee65555de",
   "metadata": {},
   "source": [
    "<p style=\"text-align:center;\"><img src=\"data/TenRecommendationsERS.jpg\" width=\"800\"></p>"
   ]
  },
  {
   "cell_type": "markdown",
   "id": "79c72135-b00f-4bae-b53b-ef0132fc7f83",
   "metadata": {},
   "source": [
    "<p style=\"text-align:center;\"><i>Overview of all ten recommendations</i> (<a href=\"https://doi.org/10.1145/3679240.3734606\">Ferenz et al., 2025</a>)</p>"
   ]
  },
  {
   "cell_type": "markdown",
   "id": "9894f36f-d3e0-44ba-8496-68b6185f686a",
   "metadata": {},
   "source": [
    "- **Recommendations (2), (4), (9), and (10) $\\rightarrow$ medium to long-term software development practices**\n",
    "    - cf. yesterday DdS talk & Barcamp discussions \n",
    "- **Recommendations (1), (3), (5), (6), (7), (8) $\\rightarrow$ directly relevant to the work we conducted**"
   ]
  },
  {
   "cell_type": "markdown",
   "id": "af0ea510-bf4e-4af9-870e-c7fcd7c5f144",
   "metadata": {},
   "source": [
    "<div style=\"border: 2px solid rgba(0, 116, 130, 0.5); padding: 10px; border-radius: 5px; background-color: rgba(0, 116, 130, 0.05); color: black; text-align: center;\">\n",
    "  <h2 style=\"margin: 0;\">LCI building approach</h2>\n",
    "</div>"
   ]
  },
  {
   "cell_type": "markdown",
   "id": "1477d7ca-bfb6-4448-ba89-cd6085139bab",
   "metadata": {},
   "source": [
    "## Electricity, Heat, and $H_{2}$ flows "
   ]
  },
  {
   "cell_type": "markdown",
   "id": "4a246df1-cba5-4723-86db-a1d473ac7397",
   "metadata": {},
   "source": [
    "**An OpenModelica model ([Fritzson et al., 2020](https://doi.org/10.4173/mic.2020.4.1)):** \n",
    "- Developed with a TEA (Techno-Economic Assessment) approach by project partners ([Beerlage et al., 2024](https://doi.org/10.3384/ecp20780))"
   ]
  },
  {
   "cell_type": "markdown",
   "id": "5954c5bc-04e3-44e9-a644-d4dfe4106d9d",
   "metadata": {},
   "source": [
    "<p style=\"text-align:center;\"><img src=\"data/OMmodel.png\" width=\"500\"></p>"
   ]
  },
  {
   "cell_type": "markdown",
   "id": "7bd31c64-bbe6-45cc-afa5-e7b2d556116d",
   "metadata": {},
   "source": [
    "> **In regard to the recommendations of [Ferenz et al., 2025](https://doi.org/10.1145/3679240.3734606):**\n",
    "> - Use of a general-purpose and flexible tool for TEA-LCA (5)\n",
    "> - In line with in-project available competencies (1)\n",
    "> - Modular and scalable (*supporting integration of diverse energy producers, consumers, and storage\n",
    "technologies*) (6)\n",
    "> - Code available at Github under the name [CO2InnO-H2-CHP-Demonstrator](https://github.com/IKKUengine/CO2InnO-H2-CHP-Demonstrator) (3)\n",
    "> - Some efforts in documentation (7)"
   ]
  },
  {
   "cell_type": "markdown",
   "id": "51769985-aee1-4d23-a01b-6d0ec155fee5",
   "metadata": {},
   "source": [
    "<div style=\"padding: 10px; border-radius: 0px; background-color: #FFFACD; color: black; text-align: center;\">\n",
    "  <h3 style=\"margin: 0;\"><a href=\"https://github.com/IKKUengine/CO2InnO-H2-CHP-Demonstrator\">$\\rightarrow$ Check the OpenModelica model</a></h3>\n",
    "</div>"
   ]
  },
  {
   "cell_type": "markdown",
   "id": "41f2a5cf-90b3-490a-a0ad-a2e15f760b65",
   "metadata": {},
   "source": [
    "## Matching infrastructure"
   ]
  },
  {
   "cell_type": "markdown",
   "id": "7d91f316-289c-4583-a4d0-160275d37c4d",
   "metadata": {},
   "source": [
    "**Based on existing ecoinvent 3.10 cutoff datasets, cradle-to-grave approach** \n",
    "- Linear scaling for relevant flows:\n",
    "    - *PV installed surface, PEMEL water consumption, etc.* \n",
    "- Other flows adapted through the approach of [Zhang et al., 2017](https://doi.org/10.1016/j.apenergy.2016.12.098):\n",
    "    - *b scaling factor determined from litterature or datasets analysis*"
   ]
  },
  {
   "cell_type": "markdown",
   "id": "a81b3a4f-4805-46c1-9257-c6d85d2d90c6",
   "metadata": {},
   "source": [
    "**Best case (several datasets):**\n",
    "\n",
    "$C(X) = a·(X)^b$\n",
    "\n",
    "- $C \\rightarrow$ flow value\n",
    "- $a \\rightarrow$ regression coefficient across the datasets\n",
    " (*not just the ratio of 2 X values*)\n",
    "- $X \\rightarrow$ capacity (*here, kW*)\n",
    "- $b \\rightarrow$ scaling factor"
   ]
  },
  {
   "cell_type": "markdown",
   "id": "4a34b664-3f7e-41b9-a509-7a8e7d231ed1",
   "metadata": {},
   "source": [
    "**Worst case (few datasets):**\n",
    " \n",
    "$\\dfrac{C_{2}}{C_{1}} = \\Biggl(\\dfrac{X_{2}}{X_{1}}\\Biggl)^b$\n",
    "\n",
    "- $C_{1} \\rightarrow$ known flow of component 1\n",
    "- $C_{2} \\rightarrow$ unknown flow of component 2\n",
    "- $X_{1} \\rightarrow$ capacity (*here, kW*) of system 1\n",
    "- $X_{2} \\rightarrow$ capacity (*here, kW*) of system 2\n",
    "- $b \\rightarrow$ scaling factor"
   ]
  },
  {
   "cell_type": "markdown",
   "id": "42e85817-67db-4d67-bf93-a907507d8eeb",
   "metadata": {},
   "source": [
    "> **In regard to the recommendations of [Ferenz et al., 2025](https://doi.org/10.1145/3679240.3734606):**\n",
    "> - Try to address interoperability issues (1, 5, 6)\n",
    "> - Although ecoinvent is not open-source, the LCI building is transparent and thoroughly documented, archived in GitHub and Zenodo (3, 5, 7)\n",
    "> - If you have an ecoinvent licence and want the full `bw2project` file, contact us!"
   ]
  },
  {
   "cell_type": "markdown",
   "id": "fdc48cd1-8ec0-4022-b9ad-642a679082d2",
   "metadata": {},
   "source": [
    "<div style=\"padding: 10px; border-radius: 0px; background-color: #FFFACD; color: black; text-align: center;\">\n",
    "  <h3 style=\"margin: 0;\"><a href=\"https://github.com/Paul-Robineau/LCA-ScenarioResults-from-CO2InnO-H2-ICE-CHP-Demonstrator/tree/main/LCI\">$\\rightarrow$ Check the LCI (xlsx) and the LCI report (docx)</a></h3>\n",
    "</div>"
   ]
  },
  {
   "cell_type": "markdown",
   "id": "43e74c57-48aa-431f-b4b8-f71c33e8ca2e",
   "metadata": {},
   "source": [
    "<div style=\"border: 2px solid rgba(0, 116, 130, 0.5); padding: 10px; border-radius: 5px; background-color: rgba(0, 116, 130, 0.05); color: black; text-align: center;\">\n",
    "  <h2 style=\"margin: 0;\">What worked?</h2>\n",
    "</div>"
   ]
  },
  {
   "cell_type": "markdown",
   "id": "bd4fb3ae-91d9-4916-8782-816ac8bc9626",
   "metadata": {},
   "source": [
    "**Modular Python procedures that:** \n",
    "- Clean and preprocess OpenModelica outputs\n",
    "- Extract relevant variables for the $H_{2}$-based ICE-CHP DES model\n",
    "- Allocate energy and mass flows across any number of modeled scenarios"
   ]
  },
  {
   "cell_type": "markdown",
   "id": "7ca9a95a-244d-482d-b140-9450956753aa",
   "metadata": {},
   "source": [
    "> **In regard to the recommendations of [Ferenz et al., 2025](https://doi.org/10.1145/3679240.3734606):**\n",
    "> - Try to address interoperability issues (1, 5, 6)\n",
    "> - Internal documentation and reproducibility, with verification computations available within (7)\n",
    "> - Tested across scenarios of increasing complexity for robustness (8)"
   ]
  },
  {
   "cell_type": "markdown",
   "id": "4739f5c2-28b5-485b-a898-71021525e882",
   "metadata": {},
   "source": [
    "## **Flow reconstruction**"
   ]
  },
  {
   "cell_type": "markdown",
   "id": "030432c7-d35a-4e68-ae88-9efc5027cd7d",
   "metadata": {},
   "source": [
    "### **Why did we need it?**"
   ]
  },
  {
   "cell_type": "markdown",
   "id": "4e381392-5238-40ed-bf82-485c18c3e864",
   "metadata": {},
   "source": [
    "**In the best case scenario: we don't**\n",
    "- Because people work closely together from the begining\n",
    "- Because there is an integrated tool available\n",
    "\n",
    "**Other cases:**\n",
    "- You have a specific need, the perfect tool for you already exist but you don't have control on it"
   ]
  },
  {
   "cell_type": "markdown",
   "id": "2bf26084-8bba-4c0b-b3d6-d254b6c6f9b9",
   "metadata": {},
   "source": [
    "- **In particular: an Interreg project with different institutions / labs / people, all of them having different focus:**\n",
    "    - The documentation of the OpenModelica model is currently not that great\n",
    "    - The OpenModelica model was not designed to track the flows between system's components\n",
    "        - Results tables would either have, per components:\n",
    "            - Produced Electricity / Heat / $H_{2}$\n",
    "            - Consumed Electricity / Heat / $H_{2}$"
   ]
  },
  {
   "cell_type": "markdown",
   "id": "1c9661f1-0602-4b7e-8515-55c79a8e9f02",
   "metadata": {},
   "source": [
    "### **Two possible approaches**"
   ]
  },
  {
   "cell_type": "markdown",
   "id": "e24f3b31-596a-4040-a8b7-c2eead024b1a",
   "metadata": {},
   "source": [
    "#### **1. Recreate the control logic of the system** "
   ]
  },
  {
   "cell_type": "markdown",
   "id": "5484afe1-6447-4289-8890-34f9978ecbc4",
   "metadata": {},
   "source": [
    "$\\rightarrow$ Sequential allocation:"
   ]
  },
  {
   "cell_type": "markdown",
   "id": "244db7f8-2e65-4655-8be3-20df4382f930",
   "metadata": {},
   "source": [
    "<p style=\"text-align:center;\"><img src=\"data/GeneralSystemControlLogic-300dpi.png\" width=\"800\"></p>"
   ]
  },
  {
   "cell_type": "markdown",
   "id": "d5dbcd6c-3a4a-4c41-86a1-b0b62b9a6de7",
   "metadata": {},
   "source": [
    "<p style=\"text-align:center;\"><i>Control sequence of the implemented electrical and heating system</i> (<a href=\"https://doi.org/10.3384/ecp20780\">Beerlage et al., 2024</a>)</p>"
   ]
  },
  {
   "cell_type": "markdown",
   "id": "9d0837d2-00d5-4416-928f-24279fdc9010",
   "metadata": {},
   "source": [
    "#### **2. \"Direct\" allocation:**"
   ]
  },
  {
   "cell_type": "markdown",
   "id": "01e788bd-d0ae-485c-a302-2ffa9e583f7d",
   "metadata": {},
   "source": [
    "<p style=\"text-align:center;\">$Flow(Source \\rightarrow Sink) = \\dfrac{Source}{Supply} · \\dfrac{Sink}{Demand} · min(Supply, Demand)$</p>"
   ]
  },
  {
   "cell_type": "markdown",
   "id": "67964691-3a48-407d-b0ce-3fa65224f4f3",
   "metadata": {},
   "source": [
    "With:\n",
    "- $Source \\rightarrow$ starting point of the given flow\n",
    "- $Sink \\rightarrow$ ending point of the given flow\n",
    "- $Supply \\rightarrow$ sum of all source productions of the given flow\n",
    "- $Demand \\rightarrow$ sum of all sink consumptions of the given flow"
   ]
  },
  {
   "cell_type": "markdown",
   "id": "3faf82a4-1338-43ca-afea-40619b9ac7fa",
   "metadata": {},
   "source": [
    "#### **Why \"direct\" allocation works?**"
   ]
  },
  {
   "cell_type": "markdown",
   "id": "263b9860-e2b2-4829-a0f3-8bf6574c25fa",
   "metadata": {},
   "source": [
    "**$\\rightarrow$ Control sequence *already* embedded in the exported results of the model** \n",
    "\n",
    "**$\\rightarrow$ There is no \"leak\" outside of the model** "
   ]
  },
  {
   "cell_type": "markdown",
   "id": "e0d65817-88cd-46df-b784-885dee2a3d29",
   "metadata": {},
   "source": [
    "<div style=\"padding: 10px; border-radius: 0px; background-color: #FFFACD; color: black; text-align: center;\">\n",
    "  <h3 style=\"margin: 0;\"><a href=\"https://github.com/Paul-Robineau/Processing-CO2InnO-H2-CHP-Demonstrator-outputs\">$\\rightarrow$ Check the processing pipeline</a></h3>\n",
    "</div>"
   ]
  },
  {
   "cell_type": "markdown",
   "id": "fcd567a3-17d5-4c17-8628-7c542740ee44",
   "metadata": {},
   "source": [
    "## **Interlude: In praise of A🐝**"
   ]
  },
  {
   "cell_type": "markdown",
   "id": "dd590be6-6f5e-4dc7-995a-24b4804d6bad",
   "metadata": {},
   "source": [
    "**Mainly: it works so well**\n",
    "- Smoothness in most uses once the interface is understood: the layout globally have *affordance*\n",
    "- The modularity in activities' creation is particularly adapted to these systems"
   ]
  },
  {
   "cell_type": "markdown",
   "id": "a34a3a1f-6766-40ee-b5e6-73e4d0629861",
   "metadata": {},
   "source": [
    "<div style=\"border: 2px solid #9f8189; padding: 10px; border-radius: 5px; background-color: #ffe4e9; color: black; text-align: center;\">\n",
    "  <h2 style=\"margin: 0;\">What did not work?</h2>\n",
    "</div>"
   ]
  },
  {
   "cell_type": "markdown",
   "id": "37aea393-00d0-4591-a667-917bee97a23b",
   "metadata": {},
   "source": [
    "**Individual part, on our side:**\n",
    "- Lack of programming capacities (you can ChatGPT your way out only up to certain point)\n",
    "- Understanding of some intricacies like: parametrization\n",
    "\n",
    "**Software part:**\n",
    "- Limitations in Activity Browser documentation (7)\n",
    "    - Basics are explained (Wiki, and even Videos!)\n",
    "    - But it's not the case on more sophisticated options\n",
    "\n",
    "**Social part:**\n",
    "- Lack of time (Fixed-term research contracts)"
   ]
  },
  {
   "cell_type": "markdown",
   "id": "b74747bf-0eb1-486f-a7f9-c519b996f498",
   "metadata": {},
   "source": [
    "### At the end of the line"
   ]
  },
  {
   "cell_type": "markdown",
   "id": "68b7994c-c0de-4a70-88cc-aaff476d52fc",
   "metadata": {},
   "source": [
    "> **$\\rightarrow$ Modifying infrastructure and operational flows in A🐝 required manual input**\n",
    "\n",
    "> **$\\rightarrow$ All flows for all sub-systems and scenarios were done by-hand...**"
   ]
  },
  {
   "cell_type": "markdown",
   "id": "2d715cff-78d2-41df-a47a-b311bd9df3d5",
   "metadata": {},
   "source": [
    "<div style=\"border: 2px solid #7d7d7d; padding: 10px; border-radius: 5px; background-color: #eeeeee; color: black; text-align: center;\">\n",
    "  <h2 style=\"margin: 0;\">Perspectives</h2>\n",
    "</div>"
   ]
  },
  {
   "cell_type": "markdown",
   "id": "26808ce0-82b0-4d85-8a75-afbd692dd1c9",
   "metadata": {},
   "source": [
    "### What to do next?"
   ]
  },
  {
   "cell_type": "markdown",
   "id": "4d13f22b-c0c1-4cab-b55a-6ff73f163ecc",
   "metadata": {},
   "source": [
    "**Real developers could build on the current Python\n",
    "code snippets**\n",
    "- Towards enabling automatic integration between OpenModelica model and A🐝\n",
    "- Potentially:\n",
    "    - scenario-specific foreground flow-exchange files (1, 5)\n",
    "    - a plugin with UI dedicated to parametrization \n",
    "\n",
    "**OR:** \n",
    "\n",
    "**Adapting / Expanding ALCHEMIA presented yesterday?**"
   ]
  },
  {
   "cell_type": "markdown",
   "id": "253bafeb-37fa-4db5-99dc-ece5484c823d",
   "metadata": {},
   "source": [
    "**Development of a fully Python-based TEA-LCA modeling framework (6)**\n",
    "- Following the example of BioSTEAM-LCA in biorefinery simulation ([Shi & Guest, 2020](https://doi.org/10.1021/acssuschemeng.0c05998))\n",
    "- Transition toward Pyomo\n",
    "    - Python-native optimization library (1, 3)\n",
    "    - Underpins 18% of open-source tools listed by the Open Energy Modelling Initiative ([Openmod, 2025](https://wiki.openmod-initiative.org/wiki/Open_Models))\n",
    "    - Including the very recent AdOpT-NET0 multi-energy system optimization ([Wiegner et al., 2025](https://doi.org/10.21105/joss.07402)) (1, 5)"
   ]
  },
  {
   "cell_type": "markdown",
   "id": "2b53cbd9-2cba-4f4f-aee0-515d3d6b8d81",
   "metadata": {},
   "source": [
    "### The need to keep a socio-technical perspective"
   ]
  },
  {
   "cell_type": "markdown",
   "id": "593711df-02d2-436e-9d31-26f527264994",
   "metadata": {},
   "source": [
    "**Shifting towards less new functionnalities, more documentation and life-comfort**"
   ]
  },
  {
   "cell_type": "markdown",
   "id": "ac4db694-47ea-4d4e-81ab-f28761919e91",
   "metadata": {},
   "source": [
    "To expand the community, it is important to take into account differences between: \n",
    "- People having already and knowingly stepped into open-source software\n",
    "- People who might want to join\n",
    "\n",
    "([Open Source Survey, 2017](https://opensourcesurvey.org/2017/); [Petrov and Obwegeser, 2018](https://aisel.aisnet.org/isd2014/proceedings2018/ISDMethodologies/3/); [Sanchez et al., 2020](https://doi.org/10.1109/ACCESS.2020.2993248); [Gorman et al., 2024](https://doi.org//10.1016/j.erss.2024.103479))\n",
    "\n",
    "\n",
    "**$\\rightarrow$ But importance of user-experience is consistently found at a high-level**\n",
    "\n",
    "<p style=\"text-align:center;\"><img src=\"data/OSusers_preferences.png\" width=\"800\"></p>\n",
    "\n",
    "**$\\rightarrow$ That implies an extensive interpretation of what documentation means**\n",
    "\n",
    "**$\\rightarrow$ Which implies more people working on A🐝 and plugins for A🐝** "
   ]
  },
  {
   "cell_type": "markdown",
   "id": "047eee3c-5ee1-45e7-8785-e999f8875c1b",
   "metadata": {},
   "source": [
    "#### **$\\rightarrow$ Which implies critical attention of PIs to include software engineering and maintenance in research project proposals (10)**  "
   ]
  },
  {
   "cell_type": "markdown",
   "id": "80dc9c4a-e07d-4b43-a6b0-60d948fa8dc6",
   "metadata": {},
   "source": [
    "<div style=\"border: 2px solid #7d7d7d; padding: 10px; border-radius: 5px; background-color: #eeeeee; color: black; text-align: center;\">\n",
    "  <h2 style=\"margin: 0;\">Bonus: Survey results (N = 41 p. on ~200 participants; 25/10/17)</h2>\n",
    "</div>"
   ]
  },
  {
   "cell_type": "markdown",
   "id": "3fbcb6a6-d9b3-429b-a331-8bad495531fb",
   "metadata": {},
   "source": [
    "### 1. What tools of the ecosystem do you use?\n",
    "\n",
    "- A. Brightway 🔵\n",
    "- B. Activity-Browser 🟡\n",
    "- C. Both equally 🟢\n",
    "- D. Activity-Browser more than Brightway 🔴\n",
    "- E. Brightway more than Activity-Browser 🟣"
   ]
  },
  {
   "cell_type": "markdown",
   "id": "d3f325a9-229b-4388-aa45-feeb958e3abb",
   "metadata": {},
   "source": [
    "<table>\n",
    "  <tr>\n",
    "    <td><img src=\"data/Survey_Q1absolute.png\" width=\"800\"></td>\n",
    "    <td><img src=\"data/Survey_Q1relative.png\" width=\"800\"></td>\n",
    "  </tr>\n",
    "</table>"
   ]
  },
  {
   "cell_type": "markdown",
   "id": "38888738-ed95-4837-a0cd-17abbbb83d2f",
   "metadata": {},
   "source": [
    "### 2. What is your main operating system?\n",
    "\n",
    "- A. Windows 🔵\n",
    "- B. MacOS 🟡\n",
    "- C. Linux 🟢"
   ]
  },
  {
   "cell_type": "markdown",
   "id": "327194df-1686-4947-8512-11ac2532a78d",
   "metadata": {},
   "source": [
    "<table>\n",
    "    <tr>\n",
    "    <td><img src=\"data/Survey_Q2absolute.png\" width=\"800\"></td>\n",
    "    <td><img src=\"data/Survey_Q2relative.png\" width=\"800\"></td>\n",
    "  </tr>\n",
    "</table>"
   ]
  },
  {
   "cell_type": "markdown",
   "id": "403e68e6-3659-44f5-88c7-2f751087796c",
   "metadata": {},
   "source": [
    "#### **$\\rightarrow$ Even in a population mainly using Brightway over Activity-Browser, there is not a full Open Software approach, for numerous reasons (work obligation, user experience in the day-to-day life, etc.)**"
   ]
  },
  {
   "cell_type": "code",
   "execution_count": null,
   "id": "8466a0d9-a134-4b35-897e-937e4f1bb3a9",
   "metadata": {},
   "outputs": [],
   "source": []
  }
 ],
 "metadata": {
  "kernelspec": {
   "display_name": "Python 3 (ipykernel)",
   "language": "python",
   "name": "python3"
  },
  "language_info": {
   "codemirror_mode": {
    "name": "ipython",
    "version": 3
   },
   "file_extension": ".py",
   "mimetype": "text/x-python",
   "name": "python",
   "nbconvert_exporter": "python",
   "pygments_lexer": "ipython3",
   "version": "3.11.10"
  }
 },
 "nbformat": 4,
 "nbformat_minor": 5
}
